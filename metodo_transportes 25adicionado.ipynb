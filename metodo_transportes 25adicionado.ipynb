{
  "nbformat": 4,
  "nbformat_minor": 0,
  "metadata": {
    "colab": {
      "provenance": [],
      "include_colab_link": true
    },
    "kernelspec": {
      "name": "python3",
      "display_name": "Python 3"
    },
    "language_info": {
      "name": "python"
    }
  },
  "cells": [
    {
      "cell_type": "markdown",
      "metadata": {
        "id": "view-in-github",
        "colab_type": "text"
      },
      "source": [
        "<a href=\"https://colab.research.google.com/github/felipercha/API---3/blob/main/metodo_transportes%2025adicionado.ipynb\" target=\"_parent\"><img src=\"https://colab.research.google.com/assets/colab-badge.svg\" alt=\"Open In Colab\"/></a>"
      ]
    },
    {
      "cell_type": "code",
      "execution_count": 1,
      "metadata": {
        "id": "M__wtYsZI6h8",
        "colab": {
          "base_uri": "https://localhost:8080/"
        },
        "outputId": "a8eedd4c-3124-4d6a-caf6-86f36fc0e380"
      },
      "outputs": [
        {
          "output_type": "stream",
          "name": "stdout",
          "text": [
            "Collecting pulp\n",
            "  Downloading PuLP-2.9.0-py3-none-any.whl.metadata (5.4 kB)\n",
            "Downloading PuLP-2.9.0-py3-none-any.whl (17.7 MB)\n",
            "\u001b[2K   \u001b[90m━━━━━━━━━━━━━━━━━━━━━━━━━━━━━━━━━━━━━━━━\u001b[0m \u001b[32m17.7/17.7 MB\u001b[0m \u001b[31m51.5 MB/s\u001b[0m eta \u001b[36m0:00:00\u001b[0m\n",
            "\u001b[?25hInstalling collected packages: pulp\n",
            "Successfully installed pulp-2.9.0\n"
          ]
        }
      ],
      "source": [
        "!pip install pulp\n"
      ]
    },
    {
      "cell_type": "code",
      "source": [
        "from pulp import *"
      ],
      "metadata": {
        "id": "LQIw-OOkI_Aq"
      },
      "execution_count": 14,
      "outputs": []
    },
    {
      "cell_type": "markdown",
      "source": [
        "## *Matrizes*\n"
      ],
      "metadata": {
        "id": "9W1aBF-RyKBg"
      }
    },
    {
      "cell_type": "code",
      "source": [
        "capacidades = [16000000, 9500000, 16500000]\n",
        "demandas = [1021200, 757500, 343200, 782700, 1969500, 1212900, 1203600, 1375800, 2728800, 843300, 3039900, 508200, 4500, 14400, 472800, 371100, 11700, 765000, 519300, 8400, 12600, 498600, 6000, 883500, 6900, 1447800, 762900, 1575900, 468600, 605700, 997500, 17700, 9600, 637800, 1009500, 660300, 1285800, 951900, 21600, 1484100, 1168800, 1443300, 1524900, 1039500, 856800, 25200, 1481700, 1184400, 18900, 1544400, 21300]\n",
        "custos = [\n",
        "         [0.49, 0.49, 0.36, 0.39, 0.47, 0.47, 0.53, 0.5, 0.39, 0.66, 0.35, 0.71, 0.68, 0.74, 0.72, 0.72, 0.8, 0.73, 0.59, 0.61, 0.73, 0.65, 0.69, 0.67, 0.57, 0.66, 0.66, 0.72, 0.74, 0.86, 0.67, 0.75, 0.61, 0.66, 0.66, 0, 0, 0, 0.78, 0.79, 0.78, 0.81, 0.85, 0.52, 0.52, 0.46, 0.24, 0.26, 0.27, 0.34, 0.36],\n",
        "         [0,0,0,0,0.21,0,0, 0.21, 0.24, 0.27, 0.22,0, 0, 0, 0, 0, 0, 0, 0, 0, 0, 0, 0, 0.36, 0, 0.26, 0.29, 0.28, 0.31, 0.47, 0.24, 0.35, 0.66, 0.24, 0.24, 0.45, 0.45, 0.43, 0.53, 0.5, 0.5, 0.5, 0.5, 0, 0, 0, 0.65, 0.68, 0.6, 0.54, 0.57],\n",
        "         [0.38, 0.34, 0.37, 0.44, 0.42, 0.34, 0.45, 0.34, 0.45, 0.24, 0.5, 0, 0, 0, 0, 0, 0, 0, 0.24, 0.31, 0.32, 0.24, 0.2, 0.34, 0.19, 0.27, 0.2, 0.28, 0.17, 0, 0.24, 0.25, 0.34, 0.27, 0.28, 0.64, 0.68, 0.68, 0, 0, 0, 0, 0, 0.45, 0.45, 0.42, 0.78, 0.79, 0.94, 0.85, 1.08]\n",
        "         ]\n"
      ],
      "metadata": {
        "id": "5mnl_Cg3JBze"
      },
      "execution_count": 15,
      "outputs": []
    },
    {
      "cell_type": "code",
      "source": [
        "num_fabricas = len(capacidades)\n",
        "num_clientes = len(demandas)"
      ],
      "metadata": {
        "id": "pvfrpcZIJJko"
      },
      "execution_count": 16,
      "outputs": []
    },
    {
      "cell_type": "markdown",
      "source": [
        "## *Criação do problema*"
      ],
      "metadata": {
        "id": "U1fR_HduyZY_"
      }
    },
    {
      "cell_type": "code",
      "source": [
        "transp = LpProblem('Mintransporte', LpMinimize)"
      ],
      "metadata": {
        "id": "grP0g18yJiuy"
      },
      "execution_count": 17,
      "outputs": []
    },
    {
      "cell_type": "markdown",
      "source": [
        "## *Criação das variáveis*"
      ],
      "metadata": {
        "id": "G4Ay4VbTyjZ5"
      }
    },
    {
      "cell_type": "code",
      "source": [
        "pares_proibidos = [\n",
        "    (1, 36), (1, 37), (1, 38),\n",
        "    (2, 1), (2, 2), (2, 3), (2, 4), (2, 6), (2, 7), (2, 12), (2, 13), (2, 14),\n",
        "    (2, 15), (2, 16), (2, 17), (2, 18), (2, 19), (2, 20), (2, 21), (2, 22),\n",
        "    (2, 23), (2, 25), (2, 44), (2, 45), (2, 46),\n",
        "    (3, 12), (3, 13), (3, 14), (3, 15), (3, 16), (3, 17), (3, 18), (3, 30),\n",
        "    (3, 39), (3, 40), (3, 41), (3, 42), (3, 43)\n",
        "]\n",
        "\n",
        "\n",
        "x = {\n",
        "    (i, j): LpVariable(f'x{i}_{j}', lowBound=0, cat=LpInteger)\n",
        "    for i in range(1, num_fabricas + 1)\n",
        "    for j in range(1, num_clientes + 1)\n",
        "    if (i, j) not in pares_proibidos\n",
        "}\n"
      ],
      "metadata": {
        "id": "9KwQYCffJve9"
      },
      "execution_count": 18,
      "outputs": []
    },
    {
      "cell_type": "markdown",
      "source": [
        "## *Criação da função objetivo*"
      ],
      "metadata": {
        "id": "bevzZXxlyrrH"
      }
    },
    {
      "cell_type": "code",
      "source": [
        "\n",
        "transp += lpSum(\n",
        "    custos[i-1][j-1] * x[i, j]\n",
        "    for i in range(1, num_fabricas + 1)\n",
        "    for j in range(1, num_clientes + 1)\n",
        "    if (i, j) not in pares_proibidos and i-1 < len(custos) and j-1 < len(custos[i-1])\n",
        ")\n",
        "\n",
        "\n"
      ],
      "metadata": {
        "id": "TjAC8kBeKBM1"
      },
      "execution_count": 19,
      "outputs": []
    },
    {
      "cell_type": "markdown",
      "source": [
        "## *Criação das restrições*"
      ],
      "metadata": {
        "id": "635V_iE5y0MK"
      }
    },
    {
      "cell_type": "code",
      "source": [
        "for i in range(1, num_fabricas + 1):\n",
        "    transp += lpSum(x[i, j] for j in range(1, num_clientes + 1) if (i, j) not in pares_proibidos) <= capacidades[i - 1]\n",
        "\n",
        "for j in range(1, num_clientes + 1):\n",
        "    transp += lpSum(x[i, j] for i in range(1, num_fabricas + 1) if (i, j) not in pares_proibidos) == demandas[j - 1]"
      ],
      "metadata": {
        "id": "RByTV0j5w1y7"
      },
      "execution_count": 20,
      "outputs": []
    },
    {
      "cell_type": "markdown",
      "source": [
        "## *Problema modelado*"
      ],
      "metadata": {
        "id": "WXr7UrzHy9i9"
      }
    },
    {
      "cell_type": "code",
      "source": [
        "transp"
      ],
      "metadata": {
        "id": "Zw4VtqcEKH9l",
        "outputId": "47e342c3-3640-43c7-fe05-f7124ae8d5c3",
        "colab": {
          "base_uri": "https://localhost:8080/"
        }
      },
      "execution_count": 21,
      "outputs": [
        {
          "output_type": "execute_result",
          "data": {
            "text/plain": [
              "Mintransporte:\n",
              "MINIMIZE\n",
              "0.49*x1_1 + 0.66*x1_10 + 0.35*x1_11 + 0.71*x1_12 + 0.68*x1_13 + 0.74*x1_14 + 0.72*x1_15 + 0.72*x1_16 + 0.8*x1_17 + 0.73*x1_18 + 0.59*x1_19 + 0.49*x1_2 + 0.61*x1_20 + 0.73*x1_21 + 0.65*x1_22 + 0.69*x1_23 + 0.67*x1_24 + 0.57*x1_25 + 0.66*x1_26 + 0.66*x1_27 + 0.72*x1_28 + 0.74*x1_29 + 0.36*x1_3 + 0.86*x1_30 + 0.67*x1_31 + 0.75*x1_32 + 0.61*x1_33 + 0.66*x1_34 + 0.66*x1_35 + 0.78*x1_39 + 0.39*x1_4 + 0.79*x1_40 + 0.78*x1_41 + 0.81*x1_42 + 0.85*x1_43 + 0.52*x1_44 + 0.52*x1_45 + 0.46*x1_46 + 0.24*x1_47 + 0.26*x1_48 + 0.27*x1_49 + 0.47*x1_5 + 0.34*x1_50 + 0.36*x1_51 + 0.47*x1_6 + 0.53*x1_7 + 0.5*x1_8 + 0.39*x1_9 + 0.27*x2_10 + 0.22*x2_11 + 0.36*x2_24 + 0.26*x2_26 + 0.29*x2_27 + 0.28*x2_28 + 0.31*x2_29 + 0.47*x2_30 + 0.24*x2_31 + 0.35*x2_32 + 0.66*x2_33 + 0.24*x2_34 + 0.24*x2_35 + 0.45*x2_36 + 0.45*x2_37 + 0.43*x2_38 + 0.53*x2_39 + 0.5*x2_40 + 0.5*x2_41 + 0.5*x2_42 + 0.5*x2_43 + 0.65*x2_47 + 0.68*x2_48 + 0.6*x2_49 + 0.21*x2_5 + 0.54*x2_50 + 0.57*x2_51 + 0.21*x2_8 + 0.24*x2_9 + 0.38*x3_1 + 0.24*x3_10 + 0.5*x3_11 + 0.24*x3_19 + 0.34*x3_2 + 0.31*x3_20 + 0.32*x3_21 + 0.24*x3_22 + 0.2*x3_23 + 0.34*x3_24 + 0.19*x3_25 + 0.27*x3_26 + 0.2*x3_27 + 0.28*x3_28 + 0.17*x3_29 + 0.37*x3_3 + 0.24*x3_31 + 0.25*x3_32 + 0.34*x3_33 + 0.27*x3_34 + 0.28*x3_35 + 0.64*x3_36 + 0.68*x3_37 + 0.68*x3_38 + 0.44*x3_4 + 0.45*x3_44 + 0.45*x3_45 + 0.42*x3_46 + 0.78*x3_47 + 0.79*x3_48 + 0.94*x3_49 + 0.42*x3_5 + 0.85*x3_50 + 1.08*x3_51 + 0.34*x3_6 + 0.45*x3_7 + 0.34*x3_8 + 0.45*x3_9 + 0.0\n",
              "SUBJECT TO\n",
              "_C1: x1_1 + x1_10 + x1_11 + x1_12 + x1_13 + x1_14 + x1_15 + x1_16 + x1_17\n",
              " + x1_18 + x1_19 + x1_2 + x1_20 + x1_21 + x1_22 + x1_23 + x1_24 + x1_25\n",
              " + x1_26 + x1_27 + x1_28 + x1_29 + x1_3 + x1_30 + x1_31 + x1_32 + x1_33\n",
              " + x1_34 + x1_35 + x1_39 + x1_4 + x1_40 + x1_41 + x1_42 + x1_43 + x1_44\n",
              " + x1_45 + x1_46 + x1_47 + x1_48 + x1_49 + x1_5 + x1_50 + x1_51 + x1_6 + x1_7\n",
              " + x1_8 + x1_9 <= 16000000\n",
              "\n",
              "_C2: x2_10 + x2_11 + x2_24 + x2_26 + x2_27 + x2_28 + x2_29 + x2_30 + x2_31\n",
              " + x2_32 + x2_33 + x2_34 + x2_35 + x2_36 + x2_37 + x2_38 + x2_39 + x2_40\n",
              " + x2_41 + x2_42 + x2_43 + x2_47 + x2_48 + x2_49 + x2_5 + x2_50 + x2_51 + x2_8\n",
              " + x2_9 <= 9500000\n",
              "\n",
              "_C3: x3_1 + x3_10 + x3_11 + x3_19 + x3_2 + x3_20 + x3_21 + x3_22 + x3_23\n",
              " + x3_24 + x3_25 + x3_26 + x3_27 + x3_28 + x3_29 + x3_3 + x3_31 + x3_32\n",
              " + x3_33 + x3_34 + x3_35 + x3_36 + x3_37 + x3_38 + x3_4 + x3_44 + x3_45\n",
              " + x3_46 + x3_47 + x3_48 + x3_49 + x3_5 + x3_50 + x3_51 + x3_6 + x3_7 + x3_8\n",
              " + x3_9 <= 16500000\n",
              "\n",
              "_C4: x1_1 + x3_1 = 1021200\n",
              "\n",
              "_C5: x1_2 + x3_2 = 757500\n",
              "\n",
              "_C6: x1_3 + x3_3 = 343200\n",
              "\n",
              "_C7: x1_4 + x3_4 = 782700\n",
              "\n",
              "_C8: x1_5 + x2_5 + x3_5 = 1969500\n",
              "\n",
              "_C9: x1_6 + x3_6 = 1212900\n",
              "\n",
              "_C10: x1_7 + x3_7 = 1203600\n",
              "\n",
              "_C11: x1_8 + x2_8 + x3_8 = 1375800\n",
              "\n",
              "_C12: x1_9 + x2_9 + x3_9 = 2728800\n",
              "\n",
              "_C13: x1_10 + x2_10 + x3_10 = 843300\n",
              "\n",
              "_C14: x1_11 + x2_11 + x3_11 = 3039900\n",
              "\n",
              "_C15: x1_12 = 508200\n",
              "\n",
              "_C16: x1_13 = 4500\n",
              "\n",
              "_C17: x1_14 = 14400\n",
              "\n",
              "_C18: x1_15 = 472800\n",
              "\n",
              "_C19: x1_16 = 371100\n",
              "\n",
              "_C20: x1_17 = 11700\n",
              "\n",
              "_C21: x1_18 = 765000\n",
              "\n",
              "_C22: x1_19 + x3_19 = 519300\n",
              "\n",
              "_C23: x1_20 + x3_20 = 8400\n",
              "\n",
              "_C24: x1_21 + x3_21 = 12600\n",
              "\n",
              "_C25: x1_22 + x3_22 = 498600\n",
              "\n",
              "_C26: x1_23 + x3_23 = 6000\n",
              "\n",
              "_C27: x1_24 + x2_24 + x3_24 = 883500\n",
              "\n",
              "_C28: x1_25 + x3_25 = 6900\n",
              "\n",
              "_C29: x1_26 + x2_26 + x3_26 = 1447800\n",
              "\n",
              "_C30: x1_27 + x2_27 + x3_27 = 762900\n",
              "\n",
              "_C31: x1_28 + x2_28 + x3_28 = 1575900\n",
              "\n",
              "_C32: x1_29 + x2_29 + x3_29 = 468600\n",
              "\n",
              "_C33: x1_30 + x2_30 = 605700\n",
              "\n",
              "_C34: x1_31 + x2_31 + x3_31 = 997500\n",
              "\n",
              "_C35: x1_32 + x2_32 + x3_32 = 17700\n",
              "\n",
              "_C36: x1_33 + x2_33 + x3_33 = 9600\n",
              "\n",
              "_C37: x1_34 + x2_34 + x3_34 = 637800\n",
              "\n",
              "_C38: x1_35 + x2_35 + x3_35 = 1009500\n",
              "\n",
              "_C39: x2_36 + x3_36 = 660300\n",
              "\n",
              "_C40: x2_37 + x3_37 = 1285800\n",
              "\n",
              "_C41: x2_38 + x3_38 = 951900\n",
              "\n",
              "_C42: x1_39 + x2_39 = 21600\n",
              "\n",
              "_C43: x1_40 + x2_40 = 1484100\n",
              "\n",
              "_C44: x1_41 + x2_41 = 1168800\n",
              "\n",
              "_C45: x1_42 + x2_42 = 1443300\n",
              "\n",
              "_C46: x1_43 + x2_43 = 1524900\n",
              "\n",
              "_C47: x1_44 + x3_44 = 1039500\n",
              "\n",
              "_C48: x1_45 + x3_45 = 856800\n",
              "\n",
              "_C49: x1_46 + x3_46 = 25200\n",
              "\n",
              "_C50: x1_47 + x2_47 + x3_47 = 1481700\n",
              "\n",
              "_C51: x1_48 + x2_48 + x3_48 = 1184400\n",
              "\n",
              "_C52: x1_49 + x2_49 + x3_49 = 18900\n",
              "\n",
              "_C53: x1_50 + x2_50 + x3_50 = 1544400\n",
              "\n",
              "_C54: x1_51 + x2_51 + x3_51 = 21300\n",
              "\n",
              "VARIABLES\n",
              "0 <= x1_1 Integer\n",
              "0 <= x1_10 Integer\n",
              "0 <= x1_11 Integer\n",
              "0 <= x1_12 Integer\n",
              "0 <= x1_13 Integer\n",
              "0 <= x1_14 Integer\n",
              "0 <= x1_15 Integer\n",
              "0 <= x1_16 Integer\n",
              "0 <= x1_17 Integer\n",
              "0 <= x1_18 Integer\n",
              "0 <= x1_19 Integer\n",
              "0 <= x1_2 Integer\n",
              "0 <= x1_20 Integer\n",
              "0 <= x1_21 Integer\n",
              "0 <= x1_22 Integer\n",
              "0 <= x1_23 Integer\n",
              "0 <= x1_24 Integer\n",
              "0 <= x1_25 Integer\n",
              "0 <= x1_26 Integer\n",
              "0 <= x1_27 Integer\n",
              "0 <= x1_28 Integer\n",
              "0 <= x1_29 Integer\n",
              "0 <= x1_3 Integer\n",
              "0 <= x1_30 Integer\n",
              "0 <= x1_31 Integer\n",
              "0 <= x1_32 Integer\n",
              "0 <= x1_33 Integer\n",
              "0 <= x1_34 Integer\n",
              "0 <= x1_35 Integer\n",
              "0 <= x1_39 Integer\n",
              "0 <= x1_4 Integer\n",
              "0 <= x1_40 Integer\n",
              "0 <= x1_41 Integer\n",
              "0 <= x1_42 Integer\n",
              "0 <= x1_43 Integer\n",
              "0 <= x1_44 Integer\n",
              "0 <= x1_45 Integer\n",
              "0 <= x1_46 Integer\n",
              "0 <= x1_47 Integer\n",
              "0 <= x1_48 Integer\n",
              "0 <= x1_49 Integer\n",
              "0 <= x1_5 Integer\n",
              "0 <= x1_50 Integer\n",
              "0 <= x1_51 Integer\n",
              "0 <= x1_6 Integer\n",
              "0 <= x1_7 Integer\n",
              "0 <= x1_8 Integer\n",
              "0 <= x1_9 Integer\n",
              "0 <= x2_10 Integer\n",
              "0 <= x2_11 Integer\n",
              "0 <= x2_24 Integer\n",
              "0 <= x2_26 Integer\n",
              "0 <= x2_27 Integer\n",
              "0 <= x2_28 Integer\n",
              "0 <= x2_29 Integer\n",
              "0 <= x2_30 Integer\n",
              "0 <= x2_31 Integer\n",
              "0 <= x2_32 Integer\n",
              "0 <= x2_33 Integer\n",
              "0 <= x2_34 Integer\n",
              "0 <= x2_35 Integer\n",
              "0 <= x2_36 Integer\n",
              "0 <= x2_37 Integer\n",
              "0 <= x2_38 Integer\n",
              "0 <= x2_39 Integer\n",
              "0 <= x2_40 Integer\n",
              "0 <= x2_41 Integer\n",
              "0 <= x2_42 Integer\n",
              "0 <= x2_43 Integer\n",
              "0 <= x2_47 Integer\n",
              "0 <= x2_48 Integer\n",
              "0 <= x2_49 Integer\n",
              "0 <= x2_5 Integer\n",
              "0 <= x2_50 Integer\n",
              "0 <= x2_51 Integer\n",
              "0 <= x2_8 Integer\n",
              "0 <= x2_9 Integer\n",
              "0 <= x3_1 Integer\n",
              "0 <= x3_10 Integer\n",
              "0 <= x3_11 Integer\n",
              "0 <= x3_19 Integer\n",
              "0 <= x3_2 Integer\n",
              "0 <= x3_20 Integer\n",
              "0 <= x3_21 Integer\n",
              "0 <= x3_22 Integer\n",
              "0 <= x3_23 Integer\n",
              "0 <= x3_24 Integer\n",
              "0 <= x3_25 Integer\n",
              "0 <= x3_26 Integer\n",
              "0 <= x3_27 Integer\n",
              "0 <= x3_28 Integer\n",
              "0 <= x3_29 Integer\n",
              "0 <= x3_3 Integer\n",
              "0 <= x3_31 Integer\n",
              "0 <= x3_32 Integer\n",
              "0 <= x3_33 Integer\n",
              "0 <= x3_34 Integer\n",
              "0 <= x3_35 Integer\n",
              "0 <= x3_36 Integer\n",
              "0 <= x3_37 Integer\n",
              "0 <= x3_38 Integer\n",
              "0 <= x3_4 Integer\n",
              "0 <= x3_44 Integer\n",
              "0 <= x3_45 Integer\n",
              "0 <= x3_46 Integer\n",
              "0 <= x3_47 Integer\n",
              "0 <= x3_48 Integer\n",
              "0 <= x3_49 Integer\n",
              "0 <= x3_5 Integer\n",
              "0 <= x3_50 Integer\n",
              "0 <= x3_51 Integer\n",
              "0 <= x3_6 Integer\n",
              "0 <= x3_7 Integer\n",
              "0 <= x3_8 Integer\n",
              "0 <= x3_9 Integer"
            ]
          },
          "metadata": {},
          "execution_count": 21
        }
      ]
    },
    {
      "cell_type": "markdown",
      "source": [
        "## *Resolvendo o problema*"
      ],
      "metadata": {
        "id": "7_mcgeXUzGt4"
      }
    },
    {
      "cell_type": "code",
      "source": [
        "transp.solve()"
      ],
      "metadata": {
        "id": "_ytOGRWMKImZ",
        "outputId": "40b18ac0-e2dd-4709-d70d-fc9e687a420e",
        "colab": {
          "base_uri": "https://localhost:8080/"
        }
      },
      "execution_count": 22,
      "outputs": [
        {
          "output_type": "execute_result",
          "data": {
            "text/plain": [
              "1"
            ]
          },
          "metadata": {},
          "execution_count": 22
        }
      ]
    },
    {
      "cell_type": "markdown",
      "source": [
        "## *Resultados*"
      ],
      "metadata": {
        "id": "wX6RiqXGzMXY"
      }
    },
    {
      "cell_type": "code",
      "source": [
        "for v in transp.variables(): print (v.name, '=', v.varValue)"
      ],
      "metadata": {
        "id": "nbbatRagKM3q",
        "outputId": "2ee34b65-2fae-4a2c-a1ba-f549b410027f",
        "colab": {
          "base_uri": "https://localhost:8080/"
        }
      },
      "execution_count": 23,
      "outputs": [
        {
          "output_type": "stream",
          "name": "stdout",
          "text": [
            "x1_1 = 0.0\n",
            "x1_10 = 0.0\n",
            "x1_11 = 3039900.0\n",
            "x1_12 = 508200.0\n",
            "x1_13 = 4500.0\n",
            "x1_14 = 14400.0\n",
            "x1_15 = 472800.0\n",
            "x1_16 = 371100.0\n",
            "x1_17 = 11700.0\n",
            "x1_18 = 765000.0\n",
            "x1_19 = 0.0\n",
            "x1_2 = 0.0\n",
            "x1_20 = 0.0\n",
            "x1_21 = 0.0\n",
            "x1_22 = 0.0\n",
            "x1_23 = 0.0\n",
            "x1_24 = 0.0\n",
            "x1_25 = 0.0\n",
            "x1_26 = 0.0\n",
            "x1_27 = 0.0\n",
            "x1_28 = 0.0\n",
            "x1_29 = 0.0\n",
            "x1_3 = 343200.0\n",
            "x1_30 = 0.0\n",
            "x1_31 = 0.0\n",
            "x1_32 = 0.0\n",
            "x1_33 = 0.0\n",
            "x1_34 = 0.0\n",
            "x1_35 = 0.0\n",
            "x1_39 = 21600.0\n",
            "x1_4 = 782700.0\n",
            "x1_40 = 0.0\n",
            "x1_41 = 0.0\n",
            "x1_42 = 0.0\n",
            "x1_43 = 0.0\n",
            "x1_44 = 1039500.0\n",
            "x1_45 = 294000.0\n",
            "x1_46 = 25200.0\n",
            "x1_47 = 1481700.0\n",
            "x1_48 = 1184400.0\n",
            "x1_49 = 18900.0\n",
            "x1_5 = 934000.0\n",
            "x1_50 = 1544400.0\n",
            "x1_51 = 21300.0\n",
            "x1_6 = 0.0\n",
            "x1_7 = 0.0\n",
            "x1_8 = 0.0\n",
            "x1_9 = 2728800.0\n",
            "x2_10 = 0.0\n",
            "x2_11 = 0.0\n",
            "x2_24 = 0.0\n",
            "x2_26 = 0.0\n",
            "x2_27 = 0.0\n",
            "x2_28 = 0.0\n",
            "x2_29 = 0.0\n",
            "x2_30 = 605700.0\n",
            "x2_31 = 0.0\n",
            "x2_32 = 0.0\n",
            "x2_33 = 0.0\n",
            "x2_34 = 0.0\n",
            "x2_35 = 0.0\n",
            "x2_36 = 0.0\n",
            "x2_37 = 1285800.0\n",
            "x2_38 = 951900.0\n",
            "x2_39 = 0.0\n",
            "x2_40 = 1484100.0\n",
            "x2_41 = 1168800.0\n",
            "x2_42 = 1443300.0\n",
            "x2_43 = 1524900.0\n",
            "x2_47 = 0.0\n",
            "x2_48 = 0.0\n",
            "x2_49 = 0.0\n",
            "x2_5 = 1035500.0\n",
            "x2_50 = 0.0\n",
            "x2_51 = 0.0\n",
            "x2_8 = 0.0\n",
            "x2_9 = 0.0\n",
            "x3_1 = 1021200.0\n",
            "x3_10 = 843300.0\n",
            "x3_11 = 0.0\n",
            "x3_19 = 519300.0\n",
            "x3_2 = 757500.0\n",
            "x3_20 = 8400.0\n",
            "x3_21 = 12600.0\n",
            "x3_22 = 498600.0\n",
            "x3_23 = 6000.0\n",
            "x3_24 = 883500.0\n",
            "x3_25 = 6900.0\n",
            "x3_26 = 1447800.0\n",
            "x3_27 = 762900.0\n",
            "x3_28 = 1575900.0\n",
            "x3_29 = 468600.0\n",
            "x3_3 = 0.0\n",
            "x3_31 = 997500.0\n",
            "x3_32 = 17700.0\n",
            "x3_33 = 9600.0\n",
            "x3_34 = 637800.0\n",
            "x3_35 = 1009500.0\n",
            "x3_36 = 660300.0\n",
            "x3_37 = 0.0\n",
            "x3_38 = 0.0\n",
            "x3_4 = 0.0\n",
            "x3_44 = 0.0\n",
            "x3_45 = 562800.0\n",
            "x3_46 = 0.0\n",
            "x3_47 = 0.0\n",
            "x3_48 = 0.0\n",
            "x3_49 = 0.0\n",
            "x3_5 = 0.0\n",
            "x3_50 = 0.0\n",
            "x3_51 = 0.0\n",
            "x3_6 = 1212900.0\n",
            "x3_7 = 1203600.0\n",
            "x3_8 = 1375800.0\n",
            "x3_9 = 0.0\n"
          ]
        }
      ]
    },
    {
      "cell_type": "markdown",
      "source": [
        "## *Resultado custo mínimo*\n",
        "\n",
        "\n"
      ],
      "metadata": {
        "id": "9hmP35v0zWTV"
      }
    },
    {
      "cell_type": "code",
      "source": [
        "print('Resultado do custo de transporte =', value(transp.objective))"
      ],
      "metadata": {
        "id": "b0IERr64KVBE",
        "outputId": "10e6724b-c5b4-4335-cd82-dca02bfa64ad",
        "colab": {
          "base_uri": "https://localhost:8080/"
        }
      },
      "execution_count": 24,
      "outputs": [
        {
          "output_type": "stream",
          "name": "stdout",
          "text": [
            "Resultado do custo de transporte = 16035644.0\n"
          ]
        }
      ]
    }
  ]
}